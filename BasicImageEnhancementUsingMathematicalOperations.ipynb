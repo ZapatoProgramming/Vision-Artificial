{
 "cells": [
  {
   "cell_type": "markdown",
   "metadata": {},
   "source": [
    "# Basic Image Enhancement Using Mathematical Operations\n",
    "\n",
    "Image Processing techniques take advantage of mathematical operations to achieve different results. Most often we arrive at an enhanced version of the image using some basic operations. We will take a look at some of the fundamental operations often used in computer vision pipelines. In this notebook we will cover:\n",
    "\n",
    "* Arithmetic Operations like addition, multiplication\n",
    "* Thresholding & Masking\n",
    "* Bitwise Operations like OR, AND, XOR"
   ]
  }
 ],
 "metadata": {
  "language_info": {
   "name": "python"
  }
 },
 "nbformat": 4,
 "nbformat_minor": 2
}
