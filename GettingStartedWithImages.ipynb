{
 "cells": [
  {
   "cell_type": "markdown",
   "metadata": {},
   "source": [
    "# Getting Started with Images\n",
    "This notebook will help you take your first steps in learning Image Processing and Computer Vision using OpenCV. You will learn some important lessons using some simple examples. In this notebook, you will learn the following:\n",
    "\n",
    "1. Reading an image\n",
    "2. Check image attributes like datatype and shape\n",
    "3. Matrix representation of an image in Numpy\n",
    "4. Color Images and splitting/merging image channels\n",
    "5. Displaying images using matplotlib\n",
    "6. Saving images"
   ]
  },
  {
   "cell_type": "markdown",
   "metadata": {},
   "source": [
    "## Install libraries\n",
    "\n",
    "**IMPORTANT!!!** Make sure you are using the correct environment on your notebook and have installed the opencv library.\n",
    "You can do this in anaconda with the following commands.\n",
    "1. To create the virtual environment:\n",
    "    conda create --name opencv-env \n",
    "2. To activate the virtual environment:\n",
    "    conda activate opencv-env \n",
    "3. To install the opencv library:\n",
    "    conda install -c conda-forge opencv\n",
    "\n",
    "Then we need to install the libraries with the following command:"
   ]
  },
  {
   "cell_type": "code",
   "execution_count": 3,
   "metadata": {},
   "outputs": [
    {
     "name": "stdout",
     "output_type": "stream",
     "text": [
      "Requirement already satisfied: numpy in /opt/anaconda3/envs/opencv-env/lib/python3.13/site-packages (from -r requirements.txt (line 1)) (2.2.3)\n",
      "Collecting matplotlib (from -r requirements.txt (line 2))\n",
      "  Downloading matplotlib-3.10.0-cp313-cp313-macosx_11_0_arm64.whl.metadata (11 kB)\n",
      "Requirement already satisfied: ipython in /opt/anaconda3/envs/opencv-env/lib/python3.13/site-packages (from -r requirements.txt (line 3)) (8.32.0)\n",
      "Collecting contourpy>=1.0.1 (from matplotlib->-r requirements.txt (line 2))\n",
      "  Downloading contourpy-1.3.1-cp313-cp313-macosx_11_0_arm64.whl.metadata (5.4 kB)\n",
      "Collecting cycler>=0.10 (from matplotlib->-r requirements.txt (line 2))\n",
      "  Downloading cycler-0.12.1-py3-none-any.whl.metadata (3.8 kB)\n",
      "Collecting fonttools>=4.22.0 (from matplotlib->-r requirements.txt (line 2))\n",
      "  Downloading fonttools-4.56.0-cp313-cp313-macosx_10_13_universal2.whl.metadata (101 kB)\n",
      "Collecting kiwisolver>=1.3.1 (from matplotlib->-r requirements.txt (line 2))\n",
      "  Downloading kiwisolver-1.4.8-cp313-cp313-macosx_11_0_arm64.whl.metadata (6.2 kB)\n",
      "Requirement already satisfied: packaging>=20.0 in /opt/anaconda3/envs/opencv-env/lib/python3.13/site-packages (from matplotlib->-r requirements.txt (line 2)) (24.2)\n",
      "Collecting pillow>=8 (from matplotlib->-r requirements.txt (line 2))\n",
      "  Downloading pillow-11.1.0-cp313-cp313-macosx_11_0_arm64.whl.metadata (9.1 kB)\n",
      "Collecting pyparsing>=2.3.1 (from matplotlib->-r requirements.txt (line 2))\n",
      "  Downloading pyparsing-3.2.1-py3-none-any.whl.metadata (5.0 kB)\n",
      "Requirement already satisfied: python-dateutil>=2.7 in /opt/anaconda3/envs/opencv-env/lib/python3.13/site-packages (from matplotlib->-r requirements.txt (line 2)) (2.9.0.post0)\n",
      "Requirement already satisfied: decorator in /opt/anaconda3/envs/opencv-env/lib/python3.13/site-packages (from ipython->-r requirements.txt (line 3)) (5.1.1)\n",
      "Requirement already satisfied: jedi>=0.16 in /opt/anaconda3/envs/opencv-env/lib/python3.13/site-packages (from ipython->-r requirements.txt (line 3)) (0.19.2)\n",
      "Requirement already satisfied: matplotlib-inline in /opt/anaconda3/envs/opencv-env/lib/python3.13/site-packages (from ipython->-r requirements.txt (line 3)) (0.1.7)\n",
      "Requirement already satisfied: pexpect>4.3 in /opt/anaconda3/envs/opencv-env/lib/python3.13/site-packages (from ipython->-r requirements.txt (line 3)) (4.9.0)\n",
      "Requirement already satisfied: prompt_toolkit<3.1.0,>=3.0.41 in /opt/anaconda3/envs/opencv-env/lib/python3.13/site-packages (from ipython->-r requirements.txt (line 3)) (3.0.50)\n",
      "Requirement already satisfied: pygments>=2.4.0 in /opt/anaconda3/envs/opencv-env/lib/python3.13/site-packages (from ipython->-r requirements.txt (line 3)) (2.19.1)\n",
      "Requirement already satisfied: stack_data in /opt/anaconda3/envs/opencv-env/lib/python3.13/site-packages (from ipython->-r requirements.txt (line 3)) (0.6.3)\n",
      "Requirement already satisfied: traitlets>=5.13.0 in /opt/anaconda3/envs/opencv-env/lib/python3.13/site-packages (from ipython->-r requirements.txt (line 3)) (5.14.3)\n",
      "Requirement already satisfied: parso<0.9.0,>=0.8.4 in /opt/anaconda3/envs/opencv-env/lib/python3.13/site-packages (from jedi>=0.16->ipython->-r requirements.txt (line 3)) (0.8.4)\n",
      "Requirement already satisfied: ptyprocess>=0.5 in /opt/anaconda3/envs/opencv-env/lib/python3.13/site-packages (from pexpect>4.3->ipython->-r requirements.txt (line 3)) (0.7.0)\n",
      "Requirement already satisfied: wcwidth in /opt/anaconda3/envs/opencv-env/lib/python3.13/site-packages (from prompt_toolkit<3.1.0,>=3.0.41->ipython->-r requirements.txt (line 3)) (0.2.13)\n",
      "Requirement already satisfied: six>=1.5 in /opt/anaconda3/envs/opencv-env/lib/python3.13/site-packages (from python-dateutil>=2.7->matplotlib->-r requirements.txt (line 2)) (1.17.0)\n",
      "Requirement already satisfied: executing>=1.2.0 in /opt/anaconda3/envs/opencv-env/lib/python3.13/site-packages (from stack_data->ipython->-r requirements.txt (line 3)) (2.1.0)\n",
      "Requirement already satisfied: asttokens>=2.1.0 in /opt/anaconda3/envs/opencv-env/lib/python3.13/site-packages (from stack_data->ipython->-r requirements.txt (line 3)) (3.0.0)\n",
      "Requirement already satisfied: pure_eval in /opt/anaconda3/envs/opencv-env/lib/python3.13/site-packages (from stack_data->ipython->-r requirements.txt (line 3)) (0.2.3)\n",
      "Downloading matplotlib-3.10.0-cp313-cp313-macosx_11_0_arm64.whl (8.0 MB)\n",
      "\u001b[2K   \u001b[90m━━━━━━━━━━━━━━━━━━━━━━━━━━━━━━━━━━━━━━━━\u001b[0m \u001b[32m8.0/8.0 MB\u001b[0m \u001b[31m23.2 MB/s\u001b[0m eta \u001b[36m0:00:00\u001b[0ma \u001b[36m0:00:01\u001b[0m\n",
      "\u001b[?25hDownloading contourpy-1.3.1-cp313-cp313-macosx_11_0_arm64.whl (255 kB)\n",
      "Downloading cycler-0.12.1-py3-none-any.whl (8.3 kB)\n",
      "Downloading fonttools-4.56.0-cp313-cp313-macosx_10_13_universal2.whl (2.7 MB)\n",
      "\u001b[2K   \u001b[90m━━━━━━━━━━━━━━━━━━━━━━━━━━━━━━━━━━━━━━━━\u001b[0m \u001b[32m2.7/2.7 MB\u001b[0m \u001b[31m40.7 MB/s\u001b[0m eta \u001b[36m0:00:00\u001b[0m\n",
      "\u001b[?25hDownloading kiwisolver-1.4.8-cp313-cp313-macosx_11_0_arm64.whl (65 kB)\n",
      "Downloading pillow-11.1.0-cp313-cp313-macosx_11_0_arm64.whl (3.1 MB)\n",
      "\u001b[2K   \u001b[90m━━━━━━━━━━━━━━━━━━━━━━━━━━━━━━━━━━━━━━━━\u001b[0m \u001b[32m3.1/3.1 MB\u001b[0m \u001b[31m42.3 MB/s\u001b[0m eta \u001b[36m0:00:00\u001b[0m\n",
      "\u001b[?25hDownloading pyparsing-3.2.1-py3-none-any.whl (107 kB)\n",
      "Installing collected packages: pyparsing, pillow, kiwisolver, fonttools, cycler, contourpy, matplotlib\n",
      "Successfully installed contourpy-1.3.1 cycler-0.12.1 fonttools-4.56.0 kiwisolver-1.4.8 matplotlib-3.10.0 pillow-11.1.0 pyparsing-3.2.1\n",
      "Note: you may need to restart the kernel to use updated packages.\n"
     ]
    }
   ],
   "source": [
    "%pip install -r requirements.txt"
   ]
  },
  {
   "cell_type": "markdown",
   "metadata": {},
   "source": [
    "## Import the libraries"
   ]
  },
  {
   "cell_type": "code",
   "execution_count": 5,
   "metadata": {},
   "outputs": [],
   "source": [
    "import os\n",
    "import cv2\n",
    "import numpy as np\n",
    "import matplotlib.pyplot as plt\n",
    "\n",
    "from zipfile import ZipFile\n",
    "from urllib.request import urlretrieve\n",
    "\n",
    "from IPython.display import Image\n",
    "\n",
    "#this inline specification is to display directly images in the notebook\n",
    "%matplotlib inline "
   ]
  },
  {
   "cell_type": "markdown",
   "metadata": {},
   "source": [
    "## Display Image Directly\n",
    "We will use the following as our sample images. We will use the ipython image function to load and display the image."
   ]
  },
  {
   "cell_type": "code",
   "execution_count": 6,
   "metadata": {},
   "outputs": [
    {
     "data": {
      "image/jpeg": "[encoded data removed]",
      "text/plain": [
       "<IPython.core.display.Image object>"
      ]
     },
     "execution_count": 6,
     "metadata": {},
     "output_type": "execute_result"
    }
   ],
   "source": [
    "# Display 18x18 pixel image.\n",
    "Image(filename=\"datos/sonic_18x18.jpg\")"
   ]
  },
  {
   "cell_type": "code",
   "execution_count": 7,
   "metadata": {},
   "outputs": [
    {
     "data": {
      "image/jpeg": "[encoded data removed]",
      "text/plain": [
       "<IPython.core.display.Image object>"
      ]
     },
     "execution_count": 7,
     "metadata": {},
     "output_type": "execute_result"
    }
   ],
   "source": [
    "# Display 84x84 pixel image.\n",
    "Image(filename=\"datos/sonic_84x84.jpg\")"
   ]
  },
  {
   "cell_type": "markdown",
   "metadata": {},
   "source": [
    "# Reading images using OpenCV\n",
    "\n",
    "OpenCV allows reading different types of images (JPG, PNG, etc). You can load grayscale images, color images or you can also load images with Alpha channel. It uses the **`cv2.imread()`** function which has the following syntax:\n",
    "\n",
    "**Function Syntax**\n",
    "\n",
    "``` python\n",
    "retval = cv2.imread( filename[, flags] )\n",
    "```\n",
    "\n",
    "`retval`: Is the image if it is successfully loaded. Otherwise it is `None`. This may happen if the filename is wrong or the file is corrupt.\n",
    "\n",
    "The function has **1 required input argument** and one optional flag:\n",
    "\n",
    "\n",
    "1. `filename`: This can be an **absolute** or **relative** path. This is a **mandatory argument**.\n",
    "\n",
    "2. `Flags`:    These flags are used to read an image in a particular format (for example, grayscale/color/with alpha channel). This is an **optional argument** with a default value of `cv2.IMREAD_COLOR` or `1` which loads the image as a color image.\n",
    "\n",
    "Before we proceed with some examples, let's also have a look at some of the `flags` available.\n",
    "\n",
    "**Flags**\n",
    "1. **`cv2.IMREAD_GRAYSCALE`** or **`0`**: Loads image in grayscale mode\n",
    "2. **`cv2.IMREAD_COLOR`** or **`1`**: Loads a color image. Any transparency of image will be neglected. It is the default flag.\n",
    "3. **`cv2.IMREAD_UNCHANGED`** or **`-1`**: Loads image as such including alpha channel.\n",
    "\n",
    "\n",
    "**OpenCV Documentation**\n",
    "\n",
    "1. **`Imread`**:  <a href=\"https://docs.opencv.org/4.5.1/d4/da8/group__imgcodecs.html#ga288b8b3da0892bd651fce07b3bbd3a56\" target=\"_blank\">Documentation link</a>\n",
    "\n",
    "2. **`ImreadModes`**: <a href=\"https://docs.opencv.org/4.5.1/d8/d6a/group__imgcodecs__flags.html#ga61d9b0126a3e57d9277ac48327799c80\" target=\"_blank\">Documentation link</a>\n"
   ]
  },
  {
   "cell_type": "markdown",
   "metadata": {},
   "source": [
    "## Read image in grayscale"
   ]
  },
  {
   "cell_type": "code",
   "execution_count": null,
   "metadata": {},
   "outputs": [
    {
     "name": "stdout",
     "output_type": "stream",
     "text": [
      "[[  0   4   0   0   1   1   0   2  15   4   0   3   0   2   0   1   0   0]\n",
      " [  4   0   0   1   1   0   3   7   3  10  67  54  10  10   1   0   0   0]\n",
      " [  0   1   1   0   0  14   6   4  81 102  69  47   3   0   2   4   0   0]\n",
      " [  1   0   4   0   5   0   2  58 130 109  20  66  88  73  18   2   0   0]\n",
      " [  0   2   0  25   4  15  59  64 112 131  33  58  50  78  50   1   1   0]\n",
      " [  0   2  26   0  80 158  57  20 201 216  38  55  62   0   3   3   1   1]\n",
      " [  2  28   0 117 213 196   3  97 210 216  98  25  85  75   0   7   1   1]\n",
      " [  0  34   3 146 232 219 191 141 163 160 150  70  15  84  23   0   1   1]\n",
      " [  0  21   0  87 205 171 142 102  74 116 124 157   3   5  24   0   0   2]\n",
      " [  0   1   2   2  64   0   4 167 138  14   5 207 194  24   0  21   1   1]\n",
      " [  0   3   0  15   0  16 178 192  65  39  33 225 242 115   2  35   3   0]\n",
      " [  1   0   9   1  64  94 142 186 173  87 141 243 242 203   0   1  12   0]\n",
      " [  0   0   3   0  51  39  97 238 212 103 201 212 172 237 138   0  21   4]\n",
      " [  0   3   0   4  23   4 138 202 188  59  93 155  74 155  71   0  12   1]\n",
      " [  0   0   0   1   6  22  57  67 110  14   0   1   2   0   1   9   0   0]\n",
      " [  1   0   0   3  10   1  95 129  20   3  28  12  13  28  12   0   0   3]\n",
      " [  0   3   0   0  10   4  66  76   1  12   0   0   2   0   2   0   0   0]\n",
      " [  4   0   0   0   0   4   4   1   5   6   1   0   0   0   1   0   0   0]]\n",
      "(18, 18)\n"
     ]
    },
    {
     "data": {
      "image/jpeg": "[encoded data removed]",
      "text/plain": [
       "<IPython.core.display.Image object>"
      ]
     },
     "execution_count": 15,
     "metadata": {},
     "output_type": "execute_result"
    }
   ],
   "source": [
    "# Read image as gray scale.\n",
    "cb_img = cv2.imread(\"datos/sonic_18x18.jpg\", 0)\n",
    "\n",
    "# Print the image data (pixel values), element of a 2D numpy array.\n",
    "# Each pixel value is 8-bits [0,255]\n",
    "print(cb_img)\n",
    "# print shape of the numpy array\n",
    "print(cb_img.shape)\n",
    "Image(filename=\"datos/sonic_84x84.jpg\")"
   ]
  },
  {
   "cell_type": "markdown",
   "metadata": {},
   "source": [
    "In a grayscale image, each pixel’s value represents its light intensity or luminosity. This value is derived from the original image’s color channels (red, green, and blue) using a formula that accounts for how the human eye perceives brightness.\n",
    "- In the given image, the eyes and gloves appear white or very bright, indicating that they have high values in the red, green, and blue channels.\n",
    "- Conversely, areas that are blue or black in the original image, which have lower RGB values, appear darker in the grayscale version.\n",
    "\n",
    "In this case, the resulting array has the same dimensions as the image."
   ]
  },
  {
   "cell_type": "markdown",
   "metadata": {},
   "source": [
    "## Read Image in Color\n"
   ]
  },
  {
   "cell_type": "code",
   "execution_count": null,
   "metadata": {},
   "outputs": [
    {
     "name": "stdout",
     "output_type": "stream",
     "text": [
      "[0 3 0]\n",
      "(18, 18, 3)\n"
     ]
    },
    {
     "data": {
      "image/jpeg": "[encoded data removed]",
      "text/plain": [
       "<IPython.core.display.Image object>"
      ]
     },
     "execution_count": 16,
     "metadata": {},
     "output_type": "execute_result"
    }
   ],
   "source": [
    "# Read image in color.\n",
    "cb_img = cv2.imread(\"datos/sonic_18x18.jpg\", 1)\n",
    "\n",
    "# print the first pixel of the image thats why we use [0,0]\n",
    "print(cb_img[0,0])\n",
    "# print shape of the numpy array\n",
    "print(cb_img.shape)\n",
    "Image(filename=\"datos/sonic_84x84.jpg\")"
   ]
  },
  {
   "cell_type": "markdown",
   "metadata": {},
   "source": [
    "With the IMREAD_COLOR flag, we can see that the resulting NumPy array is three times larger than the grayscale array because it includes RGB values."
   ]
  },
  {
   "cell_type": "markdown",
   "metadata": {},
   "source": [
    "xd"
   ]
  }
 ],
 "metadata": {
  "kernelspec": {
   "display_name": "opencv-env",
   "language": "python",
   "name": "python3"
  },
  "language_info": {
   "codemirror_mode": {
    "name": "ipython",
    "version": 3
   },
   "file_extension": ".py",
   "mimetype": "text/x-python",
   "name": "python",
   "nbconvert_exporter": "python",
   "pygments_lexer": "ipython3",
   "version": "3.13.1"
  }
 },
 "nbformat": 4,
 "nbformat_minor": 2
}
